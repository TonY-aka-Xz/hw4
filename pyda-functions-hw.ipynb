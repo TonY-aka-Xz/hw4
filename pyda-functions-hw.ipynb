{
 "cells": [
  {
   "cell_type": "markdown",
   "metadata": {},
   "source": [
    "## Задание 1"
   ]
  },
  {
   "cell_type": "markdown",
   "metadata": {},
   "source": [
    "Дан список вида:"
   ]
  },
  {
   "cell_type": "code",
   "execution_count": 4,
   "metadata": {},
   "outputs": [],
   "source": [
    "data = [\n",
    "    [13, 25, 23, 34],\n",
    "    [45, 32, 44, 47],\n",
    "    [12, 33, 23, 95],\n",
    "    [13, 53, 34, 35]\n",
    "]"
   ]
  },
  {
   "cell_type": "markdown",
   "metadata": {},
   "source": [
    "Напишите функцию, которая возвращает сумму элементов на диагонали. Т. е. 13+32+23+35.  \n",
    "Список может быть любой длины, но всегда является \"квадратным\" (количество элементов во вложенных списках равно их количеству)."
   ]
  },
  {
   "cell_type": "code",
   "execution_count": 5,
   "metadata": {},
   "outputs": [],
   "source": [
    "def data_sum (data):\n",
    "    num = 0\n",
    "    summm = 0\n",
    "    for i in data:\n",
    "        summm += i[num]\n",
    "        num += 1\n",
    "    return summm"
   ]
  },
  {
   "cell_type": "code",
   "execution_count": 3,
   "metadata": {},
   "outputs": [
    {
     "name": "stdout",
     "output_type": "stream",
     "text": [
      "103\n"
     ]
    }
   ],
   "source": [
    "print(data_sum(data))"
   ]
  },
  {
   "cell_type": "markdown",
   "metadata": {},
   "source": [
    "Задание 2"
   ]
  },
  {
   "cell_type": "markdown",
   "metadata": {},
   "source": [
    "Напишите функцию, возвращающую сумму первых n чисел Фибоначчи (для этого вам может понадобится ознакомиться с рекурсией)."
   ]
  },
  {
   "cell_type": "code",
   "execution_count": 209,
   "metadata": {},
   "outputs": [],
   "source": [
    "def main(n):\n",
    "    #На разных ресурсах, по разному начинают последовательность Фибоначчи.\n",
    "    #Я начал с 0.\n",
    "    num_f_1 = 0 #Заменить на 1, если нужно начинать с единицы.\n",
    "    num_f_2 = 1\n",
    "    variable = 0\n",
    "    sum_f_variable = 0\n",
    "    \n",
    "\n",
    "    i = 1\n",
    "\n",
    "    while i <= n:\n",
    "        variable = num_f_1 + num_f_2\n",
    "        num_f_2 = num_f_1\n",
    "        num_f_1 = variable\n",
    "        sum_f_variable += variable\n",
    "        #print(variable)\n",
    "        i += 1\n",
    "    return sum_f_variable\n"
   ]
  },
  {
   "cell_type": "code",
   "execution_count": 210,
   "metadata": {},
   "outputs": [
    {
     "name": "stdout",
     "output_type": "stream",
     "text": [
      "Последовательность до: 5\n",
      "12\n"
     ]
    }
   ],
   "source": [
    "n = int(input('Последовательность до: '))\n",
    "print(main(n))\n"
   ]
  },
  {
   "cell_type": "markdown",
   "metadata": {},
   "source": [
    "## Задание 3\n"
   ]
  },
  {
   "cell_type": "markdown",
   "metadata": {},
   "source": [
    "Напишите функцию, преобразующую произвольный список вида ['2018-01-01', 'yandex', 'cpc', 100] (он может быть любой длины) в словарь {'2018-01-01': {'yandex': {'cpc': 100}}}"
   ]
  },
  {
   "cell_type": "code",
   "execution_count": 202,
   "metadata": {},
   "outputs": [
    {
     "name": "stdout",
     "output_type": "stream",
     "text": [
      "{'2018-01-01': {'yandex': {'cpc': 100}}}\n"
     ]
    }
   ],
   "source": [
    "some_list = ['2018-01-01', 'yandex', 'cpc', 100]\n",
    "\n",
    "x = 2\n",
    "i = x\n",
    "some_var = some_list[-1]\n",
    "\n",
    "while i <= len(some_list):\n",
    "    some_var = {some_list[-x] : some_var} \n",
    "    i +=1\n",
    "    x +=1\n",
    "\n",
    "print(some_var)    "
   ]
  },
  {
   "cell_type": "code",
   "execution_count": null,
   "metadata": {},
   "outputs": [],
   "source": []
  },
  {
   "cell_type": "code",
   "execution_count": null,
   "metadata": {},
   "outputs": [],
   "source": [
    "# Задание 4"
   ]
  },
  {
   "cell_type": "markdown",
   "metadata": {},
   "source": [
    "Вы работаете секретарем и вам постоянно приходят различные документы. Вы должны быть очень внимательны, чтобы не потерять ни один документ. Каталог документов хранится в следующем виде:"
   ]
  },
  {
   "cell_type": "code",
   "execution_count": 175,
   "metadata": {},
   "outputs": [],
   "source": [
    "documents = [\n",
    "    {'type': 'passport', 'number': '2207 876234', 'name': 'Василий Гупкин'},\n",
    "    {'type': 'invoice', 'number': '11-2', 'name': 'Геннадий Покемонов'},\n",
    "    {'type': 'insurance', 'number': '10006', 'name': 'Аристарх Павлов'}\n",
    "]"
   ]
  },
  {
   "cell_type": "markdown",
   "metadata": {},
   "source": [
    "Перечень полок, на которых находятся документы хранится в следующем виде:"
   ]
  },
  {
   "cell_type": "code",
   "execution_count": 176,
   "metadata": {},
   "outputs": [],
   "source": [
    "directories = {\n",
    "    '1': ['2207 876234', '11-2', '5455 028765'],\n",
    "    '2': ['10006', '5400 028765', '5455 002299'],\n",
    "    '3': []\n",
    "}"
   ]
  },
  {
   "cell_type": "markdown",
   "metadata": {},
   "source": [
    "Необходимо реализовать пользовательские команды (внимание! это не название функций, которые должны быть выразительными, а команды, которые вводит пользователь, чтобы получить необходимый результат):\n",
    "  \n",
    "- p – people – команда, которая спросит номер документа и выведет имя человека, которому он принадлежит;  \n",
    "- s – shelf – команда, которая спросит номер документа и выведет номер полки, на которой он находится  \n",
    "Правильно обработайте ситуацию, когда пользователь будет вводить несуществующий документ.\n",
    "- l – list – команда, которая выведет список всех документов в формате   \n",
    "**passport \"2207 876234\" \"Василий Гупкин\"**  \n",
    "- as – add shelf – команда, которая спросит номер новой полки и добавит ее в перечень\n",
    "- d – delete – команда, которая спросит номер документа и удалит его из каталога и из перечня полок. Предусмотрите сценарий, когда пользователь вводит несуществующий документ;  \n",
    "- m – move – команда, которая спросит номер документа и целевую полку и переместит его с текущей полки на целевую. Корректно обработайте кейсы, когда пользователь пытается переместить несуществующий документ или переместить документ на несуществующую полку;  \n",
    "- a – add – команда, которая добавит новый документ в каталог и в перечень полок, спросив его номер, тип, имя владельца и номер полки, на котором он будет храниться."
   ]
  },
  {
   "cell_type": "code",
   "execution_count": 185,
   "metadata": {},
   "outputs": [],
   "source": [
    "def user_commands():\n",
    "    print('Список команд:')\n",
    "    print('p - ФИО по номеру документа')\n",
    "    print('s - номер полки по номеру документа')\n",
    "    print('list - показать список всех документов')\n",
    "    print('as - добавить новую полку')\n",
    "    print('d - удалить документ из каталога и полок')\n",
    "    print('m - переместить документ на другую полку')\n",
    "    print('a - добавить документ в каталог и на полку')\n",
    "    print('')\n",
    "    save_user_command = input('Введите команду: ')\n",
    "    start_user_command(save_user_command)\n",
    "\n",
    "    \n",
    "def start_user_command(save_user_command):\n",
    "    if save_user_command == 'p':\n",
    "        var_number = input('Введите серию/номер: ')\n",
    "        people(var_number)\n",
    "    elif save_user_command == 's':\n",
    "        var_number = input('Введите серию/номер: ')\n",
    "        shelf(var_number)\n",
    "    elif save_user_command == 'list':\n",
    "        list_f()\n",
    "    elif save_user_command == 'as':\n",
    "        shelf_number = input('Введите номер новой полки: ')\n",
    "        add_shelf(shelf_number)\n",
    "    elif save_user_command == 'd':\n",
    "        var_number = input('Введите серию/номер: ')\n",
    "        delete_document(var_number)\n",
    "    elif save_user_command == 'm':\n",
    "        var_number = input('Введите серию/номер: ')\n",
    "        var_another_shelf = input('Поместить на полку: ')\n",
    "        move(var_number, var_another_shelf)\n",
    "    elif save_user_command == 'a':\n",
    "        var_type = input('Введите тип документа: ') \n",
    "        var_number = input('Введите серию/номер: ')\n",
    "        var_name = input('Введите ФИО владельца документа: ')\n",
    "        var_another_shelf = input('Поместить на полку: ')\n",
    "        new_document(var_type, var_number, var_name, var_another_shelf)\n",
    "    else:\n",
    "        print('Неправильная команда')\n",
    "        print('')\n",
    "        user_commands()\n",
    "\n",
    "    \n",
    "def people(var_number):\n",
    "    \"\"\"\n",
    "    спросит номер документа и выведет имя человека которому он принадлежит.\n",
    "    \"\"\"\n",
    "\n",
    "    for i in documents:\n",
    "        if var_number == i['number']:\n",
    "            return print(i[\"name\"])\n",
    "    else:\n",
    "        return print(f'Нет документа с таким номером') \n",
    "\n",
    "\n",
    "def shelf(var_number):\n",
    "    \"\"\"\n",
    "    спросит номер документа и выведет номер полки, на которой он находится.\n",
    "    \"\"\"\n",
    "\n",
    "    for key, value in directories.items():\n",
    "        for number in value:\n",
    "            if var_number in number:\n",
    "                return print(f'Документ лежит на {key} полке')\n",
    "    else:\n",
    "        return print('Документа с таким номером не существует')\n",
    "\n",
    "def list_f():\n",
    "    \"\"\"\n",
    "    выведет список всех документов в формате:   \n",
    "    **passport \"2207 876234\" \"Василий Гупкин\"** .\n",
    "    \"\"\"\n",
    "    for data in documents:\n",
    "        print('\\033[1m' + data['type'] , '\"'+ data['number']+'\"' , '\"'+ data['name']+'\"')\n",
    "\n",
    "\n",
    "def add_shelf(shelf_number):\n",
    "    \"\"\"\n",
    "    спросит номер новой полки и добавит ее в перечень.\n",
    "    \"\"\"\n",
    "    for shelf in directories.keys():\n",
    "        if shelf_number in shelf:\n",
    "            return print('Такая полка уже есть')\n",
    "    else:\n",
    "        directories[shelf_number] = []\n",
    "        print(f'Полка под номером {shelf_number} добавлена')\n",
    "\n",
    "def delete_document(var_number):\n",
    "    \"\"\"\n",
    "    спросит номер документа и удалит его из каталога и из перечня полок.\n",
    "    \"\"\"\n",
    "    \n",
    "    i = 0\n",
    "    for element in documents:\n",
    "        if element['number'] == var_number:\n",
    "            del documents[i]\n",
    "            print(f'Документ удален')\n",
    "            delete_document_from_directories(var_number)\n",
    "            return documents\n",
    "        i += 1\n",
    "    else:\n",
    "        print(f'Нет документа с таким номером')   \n",
    "    \n",
    "def document_in_documents(var_number):\n",
    "    \"\"\"\n",
    "    Если докумет есть в списке - тру. Иначе - фолс.\n",
    "    \"\"\"\n",
    "    for element in documents:\n",
    "        if element['number'] == var_number:\n",
    "            return True\n",
    "    else:\n",
    "        return False\n",
    "\n",
    "\n",
    "def delete_document_from_directories(var_number):\n",
    "    \"\"\"\n",
    "    Вход: номер документа\n",
    "    Выход: удаление документа с полки\n",
    "    \"\"\"\n",
    "    for key, value in directories.items():\n",
    "        i = 0                         \n",
    "        while i < len(value):                      \n",
    "            if value[i] == var_number:\n",
    "                del value[i] \n",
    "            else:\n",
    "                i += 1    \n",
    "    return directories\n",
    "\n",
    "def move(var_number, var_another_shelf):\n",
    "    \"\"\"\n",
    "    Вход: номер документа и целевую полку.\n",
    "    Выход: удаляет документ с полки на которой лежал, добавляет на целевую. \n",
    "    Добавление на ту же полку не запрещено.\n",
    "    \"\"\"                     \n",
    "    if (shelf_in_directories(var_another_shelf) and document_in_directories(var_number)) == True: \n",
    "        delete_document_from_directories(var_number)      \n",
    "        new_directories(var_number, var_another_shelf) \n",
    "    else:\n",
    "        if document_in_directories(var_number) == False:\n",
    "            print('Документа нет на полках')\n",
    "        elif shelf_in_directories(var_another_shelf) == False:\n",
    "            print('Нет такой полки')\n",
    "\n",
    "            \n",
    "def new_directories(var_number, var_another_shelf):\n",
    "    \"\"\"\n",
    "    помещаем документ на полку\n",
    "    \"\"\"     \n",
    "    for key, value in directories.items():   \n",
    "        if key == var_another_shelf:\n",
    "            directories[key].append(var_number)\n",
    "        elif var_another_shelf not in directories: \n",
    "            print(f'Такого номера не существует. Воспользуйтесь другой полкой.')\n",
    "\n",
    "            \n",
    "def new_document(var_type, var_number, var_name, var_another_shelf): \n",
    "    \"\"\"\n",
    "    Добавляем документ в список документов и на полку. Если полки нет - создаем.\n",
    "    \"\"\"\n",
    "    document_dict = {'type': var_type, 'number': var_number, 'name': var_name}\n",
    "    documents.append(document_dict)\n",
    "\n",
    "    \n",
    "    if shelf_in_directories(var_another_shelf) == True:\n",
    "        new_directories(var_number, var_another_shelf)\n",
    "    else:\n",
    "        shelf_number = var_another_shelf\n",
    "        add_shelf(shelf_number)\n",
    "        new_directories(var_number, var_another_shelf)\n",
    "            \n",
    "            \n",
    "def document_in_directories(var_number):\n",
    "    \"\"\"\n",
    "    Если докумет есть в словаре - тру. Иначе - фолс.\n",
    "    \"\"\"\n",
    "    for key,value in directories.items():\n",
    "        for element in value:\n",
    "            if element == var_number:\n",
    "                return True \n",
    "    else:\n",
    "        return False\n",
    "\n",
    "def shelf_in_directories(var_another_shelf): \n",
    "    \"\"\"\n",
    "    Если полка есть в словаре - тру. Иначе - фолс.\n",
    "    \"\"\"\n",
    "    for key in directories.keys(): \n",
    "        if key == var_another_shelf:\n",
    "            return True\n",
    "    else:\n",
    "        return False\n"
   ]
  },
  {
   "cell_type": "code",
   "execution_count": 195,
   "metadata": {},
   "outputs": [
    {
     "name": "stdout",
     "output_type": "stream",
     "text": [
      "Список команд:\n",
      "p - ФИО по номеру документа\n",
      "s - номер полки по номеру документа\n",
      "list - показать список всех документов\n",
      "as - добавить новую полку\n",
      "d - удалить документ из каталога и полок\n",
      "m - переместить документ на другую полку\n",
      "a - добавить документ в каталог и на полку\n",
      "\n",
      "Введите команду: list\n",
      "\u001b[1mpassport \"2207 876234\" \"Василий Гупкин\"\n",
      "\u001b[1minvoice \"11-2\" \"Геннадий Покемонов\"\n",
      "\u001b[1minsurance \"10006\" \"Аристарх Павлов\"\n",
      "\u001b[1mfdsfs \"1111111111\" \"geg\"\n",
      "\u001b[1maaaaa \"22222222222\" \"RRR\"\n",
      "\u001b[1mpAAs \"33333\" \"QQQ\"\n",
      "\u001b[1mDA \"13\" \"ЯЯЯЯЯ\"\n"
     ]
    }
   ],
   "source": [
    "user_commands()"
   ]
  },
  {
   "cell_type": "code",
   "execution_count": 198,
   "metadata": {
    "scrolled": true
   },
   "outputs": [
    {
     "name": "stdout",
     "output_type": "stream",
     "text": [
      "[{'type': 'passport', 'number': '2207 876234', 'name': 'Василий Гупкин'}, {'type': 'invoice', 'number': '11-2', 'name': 'Геннадий Покемонов'}, {'type': 'insurance', 'number': '10006', 'name': 'Аристарх Павлов'}, {'type': 'fdsfs', 'number': '1111111111', 'name': 'geg'}, {'type': 'aaaaa', 'number': '22222222222', 'name': 'RRR'}, {'type': 'pAAs', 'number': '33333', 'name': 'QQQ'}, {'type': 'DA', 'number': '13', 'name': 'ЯЯЯЯЯ'}]\n",
      "{'1': ['11-2', '5455 028765', '1111111111'], '2': ['10006', '5400 028765', '5455 002299'], '3': [], '6': [], '11': ['33333'], '41': ['2207 876234', '13']}\n"
     ]
    }
   ],
   "source": [
    "print(documents)\n",
    "print(directories)"
   ]
  },
  {
   "cell_type": "code",
   "execution_count": null,
   "metadata": {},
   "outputs": [],
   "source": [
    "                   "
   ]
  },
  {
   "cell_type": "code",
   "execution_count": null,
   "metadata": {},
   "outputs": [],
   "source": []
  },
  {
   "cell_type": "code",
   "execution_count": null,
   "metadata": {},
   "outputs": [],
   "source": []
  }
 ],
 "metadata": {
  "kernelspec": {
   "display_name": "Python 3",
   "language": "python",
   "name": "python3"
  },
  "language_info": {
   "codemirror_mode": {
    "name": "ipython",
    "version": 3
   },
   "file_extension": ".py",
   "mimetype": "text/x-python",
   "name": "python",
   "nbconvert_exporter": "python",
   "pygments_lexer": "ipython3",
   "version": "3.7.4"
  }
 },
 "nbformat": 4,
 "nbformat_minor": 2
}
